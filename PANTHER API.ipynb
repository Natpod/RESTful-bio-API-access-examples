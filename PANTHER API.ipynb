{
 "cells": [
  {
   "attachments": {},
   "cell_type": "markdown",
   "id": "0724b835-7ff0-4d52-a14d-f3f71f72ba0f",
   "metadata": {},
   "source": [
    "# PANTHER API access and gene annotation\n",
    "\n",
    "Functional annotation of protein families in Differentially Expressed Genes and Leading Edge list in Enrichment result\n",
    "\n",
    "_Author : Natalia García Sánchez_\n",
    "\n",
    "_Date : 25/05/2023_\n",
    "\n",
    "---"
   ]
  },
  {
   "cell_type": "code",
   "execution_count": 1,
   "id": "09191447-bd35-4694-9a8f-8ba61475a89e",
   "metadata": {},
   "outputs": [],
   "source": [
    "import requests\n",
    "import pandas as pd"
   ]
  },
  {
   "attachments": {},
   "cell_type": "markdown",
   "id": "4a4bd079",
   "metadata": {},
   "source": [
    "directory = input(\"Please enter a directory to output PANTHERdb annotations\")"
   ]
  },
  {
   "attachments": {},
   "cell_type": "markdown",
   "id": "ad6f8e85-ba05-4417-a748-6fd5c4658ff3",
   "metadata": {},
   "source": [
    "current panther release"
   ]
  },
  {
   "cell_type": "code",
   "execution_count": 17,
   "id": "ccd0bed9-b744-4119-b9cd-165183ddac2c",
   "metadata": {},
   "outputs": [],
   "source": [
    "request_url = \"http://pantherdb.org/services/oai/pantherdb/supportedgenomes\"\n",
    "res = requests.post(request_url, {'caller_identity':'https://github.com/Natpod/Bnapus_ME'})"
   ]
  },
  {
   "cell_type": "code",
   "execution_count": null,
   "id": "00fd5082-df31-4c8b-988f-94b4514cd1c2",
   "metadata": {},
   "outputs": [],
   "source": [
    "version=res.json()['search']['product']\n"
   ]
  },
  {
   "cell_type": "code",
   "execution_count": 29,
   "id": "aa9b438c-14ae-496a-8257-730bbc320568",
   "metadata": {},
   "outputs": [
    {
     "data": {
      "text/plain": [
       "{'source': 'PANTHERDB', 'version': 17}"
      ]
     },
     "execution_count": 29,
     "metadata": {},
     "output_type": "execute_result"
    }
   ],
   "source": [
    "version"
   ]
  },
  {
   "cell_type": "code",
   "execution_count": 33,
   "id": "6d077761-c8d0-46a8-9647-8df16dc48f46",
   "metadata": {},
   "outputs": [],
   "source": [
    "gen=res.json()['search']['output']['genomes']['genome']\n",
    "supportedGenomes = pd.DataFrame.from_dict(gen)"
   ]
  },
  {
   "cell_type": "code",
   "execution_count": 36,
   "id": "b8af2284-9722-4f4a-9fb6-f4a991809586",
   "metadata": {},
   "outputs": [
    {
     "data": {
      "text/html": [
       "<div>\n",
       "<style scoped>\n",
       "    .dataframe tbody tr th:only-of-type {\n",
       "        vertical-align: middle;\n",
       "    }\n",
       "\n",
       "    .dataframe tbody tr th {\n",
       "        vertical-align: top;\n",
       "    }\n",
       "\n",
       "    .dataframe thead th {\n",
       "        text-align: right;\n",
       "    }\n",
       "</style>\n",
       "<table border=\"1\" class=\"dataframe\">\n",
       "  <thead>\n",
       "    <tr style=\"text-align: right;\">\n",
       "      <th></th>\n",
       "      <th>name</th>\n",
       "      <th>taxon_id</th>\n",
       "      <th>short_name</th>\n",
       "      <th>version</th>\n",
       "      <th>long_name</th>\n",
       "    </tr>\n",
       "  </thead>\n",
       "  <tbody>\n",
       "    <tr>\n",
       "      <th>26</th>\n",
       "      <td>canola</td>\n",
       "      <td>3708</td>\n",
       "      <td>BRANA</td>\n",
       "      <td>Reference Proteome 2021_03</td>\n",
       "      <td>Brassica napus</td>\n",
       "    </tr>\n",
       "  </tbody>\n",
       "</table>\n",
       "</div>"
      ],
      "text/plain": [
       "      name  taxon_id short_name                     version       long_name\n",
       "26  canola      3708      BRANA  Reference Proteome 2021_03  Brassica napus"
      ]
     },
     "execution_count": 36,
     "metadata": {},
     "output_type": "execute_result"
    }
   ],
   "source": [
    "supportedGenomes[supportedGenomes['taxon_id']==3708]"
   ]
  },
  {
   "attachments": {},
   "cell_type": "markdown",
   "id": "23ba89de-4f48-4dd0-9597-49d88dfd2aeb",
   "metadata": {},
   "source": [
    "download genome annotations POST (only 1000 genes at a time)"
   ]
  },
  {
   "cell_type": "code",
   "execution_count": 41,
   "id": "0ad60a57-80e0-46af-85cc-5bca5ce5b83a",
   "metadata": {},
   "outputs": [],
   "source": [
    "start_index=1\n",
    "## Construct the request\n",
    "##\n",
    "request_url = f\"http://pantherdb.org/services/oai/pantherdb/downloadgenome?organism=3708&startIndex={start_index}\"\n",
    "\n",
    "params = {\n",
    "    \"caller_identity\": \"https://github.com/Natpod/Bnapus_ME\",\n",
    "}\n",
    "results = requests.post(request_url, data=params)\n",
    "#df = handle_results(results)"
   ]
  },
  {
   "cell_type": "code",
   "execution_count": 43,
   "id": "37ea4c37-1740-407d-9765-07b0b5eadc4c",
   "metadata": {},
   "outputs": [],
   "source": [
    "response = results.json()"
   ]
  },
  {
   "cell_type": "code",
   "execution_count": 46,
   "id": "5fc25068-161c-46ba-8c47-f98db989f06a",
   "metadata": {},
   "outputs": [
    {
     "name": "stdout",
     "output_type": "stream",
     "text": [
      "Number of genes found for protein functional annotation: 60104\n"
     ]
    }
   ],
   "source": [
    "print(\"Number of genes found for protein functional annotation:\", response['search']['number_of_genes_in_genome'])"
   ]
  },
  {
   "cell_type": "code",
   "execution_count": 313,
   "id": "97cd811e-15e6-4ac6-8365-6d5c1e3ac138",
   "metadata": {},
   "outputs": [],
   "source": [
    "final_index = response['search']['number_of_genes_in_genome']\n",
    "max_genes_retrieved = 1000\n",
    "num_of_requests = int(round((final_index-start_index)/max_genes_retrieved,0))"
   ]
  },
  {
   "attachments": {},
   "cell_type": "markdown",
   "id": "35432466-197f-4dd4-9059-56ec1269f31f",
   "metadata": {},
   "source": [
    "Do for all genes"
   ]
  },
  {
   "cell_type": "code",
   "execution_count": 323,
   "id": "214053c9-bc17-46e0-9b01-ca58dfe082e4",
   "metadata": {},
   "outputs": [],
   "source": [
    "final_df = pd.DataFrame(columns = [['gene_symbol','gene_name','persistent_id','name_PC','id_PC']])\n",
    "\n",
    "start_index=1\n",
    "final_index = response['search']['number_of_genes_in_genome']\n",
    "max_genes_retrieved = 1000\n",
    "num_of_requests = int(round((final_index-start_index)/max_genes_retrieved,0))\n",
    "\n",
    "indexes_to_test = [1]\n",
    "indexes_to_test = indexes_to_test + [i*1000 for i in range(1,num_of_requests+1)]\n",
    "\n",
    "for st_index_request in indexes_to_test:\n",
    "    ## Construct the request\n",
    "    ##\n",
    "    request_url = f\"http://pantherdb.org/services/oai/pantherdb/downloadgenome?organism=3708&startIndex={st_index_request}\"\n",
    "\n",
    "    params = {\n",
    "        \"caller_identity\": \"https://github.com/Natpod/Bnapus_ME\",\n",
    "    }\n",
    "    results = requests.post(request_url, data=params)\n",
    "\n",
    "\n",
    "\n",
    "\n",
    "\n",
    "\n",
    "    gl_1 = pd.DataFrame.from_dict(response['search']['gene_list']['gene'])\n",
    "    gl_1 = gl_1.replace(nanval,None)\n",
    "\n",
    "    list_genes = gl_1['gene_symbol'].to_list()\n",
    "    list_gene_names = gl_1['gene_name'].to_list()\n",
    "    list_gene_pantherid = gl_1['persistent_id'].to_list()\n",
    "    list_name_pc= []\n",
    "    list_id_pc = []\n",
    "\n",
    "    for i in range(len(list_annotations)):\n",
    "        if list_annotations[i] != None:\n",
    "            tmp_df = pd.DataFrame.from_dict(list_annotations[i]['annotation_data_type'])\n",
    "            if tmp_df.shape[0] > 1 :\n",
    "                if (tmp_df['content'] == 'ANNOT_TYPE_ID_PANTHER_PC').any():\n",
    "                    tmp_df = tmp_df[tmp_df['content'] == 'ANNOT_TYPE_ID_PANTHER_PC']['annotation_list']\n",
    "                    dict_pc = tmp_df.iloc[0]\n",
    "                    #subdict = dict_pc.get('annotation')\n",
    "                    name_pc = dict_pc.get('annotation').get('name')\n",
    "                    id_pc = dict_pc.get('annotation').get('id')\n",
    "            else:\n",
    "                if (tmp_df['content'] == 'ANNOT_TYPE_ID_PANTHER_PC').any():\n",
    "                    tmp_df = tmp_df[tmp_df['content'] == 'ANNOT_TYPE_ID_PANTHER_PC']['annotation_list']\n",
    "                    name_pc = tmp_df.iloc[0].get('name')\n",
    "                    id_pc = tmp_df.iloc[0].get('id')\n",
    "\n",
    "            list_name_pc.append(name_pc)\n",
    "            list_id_pc.append(id_pc)\n",
    "        else:\n",
    "            list_name_pc.append(None)\n",
    "            list_id_pc.append(None)\n",
    "\n",
    "\n",
    "    prepr_df = pd.DataFrame(list(zip(list_genes,list_gene_names,list_gene_pantherid,list_name_pc,list_id_pc)), columns = [['gene_symbol','gene_name','persistent_id','name_PC','id_PC']])\n",
    "    final_df = pd.concat((final_df, prepr_df))"
   ]
  },
  {
   "cell_type": "code",
   "execution_count": 324,
   "id": "fce21594-114e-4a7c-b135-4d77ccc68a06",
   "metadata": {},
   "outputs": [
    {
     "data": {
      "text/plain": [
       "(61000, 5)"
      ]
     },
     "execution_count": 324,
     "metadata": {},
     "output_type": "execute_result"
    }
   ],
   "source": [
    "final_df.shape"
   ]
  },
  {
   "attachments": {},
   "cell_type": "markdown",
   "id": "b2d02173-2697-4de3-85b8-91539e853d20",
   "metadata": {},
   "source": [
    "Get _Brassica napus_ Hidden Markov Model Based assignation of PANTHERdb protein family classification on ftp browser on linux command (current PANTHER release version : v.17).The assignment is based on the phylogenetic trees where the gene is located.  The annotation of the subfamilies are used for the gene.\n",
    "\n",
    "```\n",
    "wget 'http://data.pantherdb.org/ftp/sequence_classifications/17.0/PANTHER_Sequence_Classification_files/PTHR17.0_rape'\n",
    "\n",
    "```\n",
    "\n"
   ]
  },
  {
   "cell_type": "code",
   "execution_count": 343,
   "id": "bbdb8837-02ba-4182-b8b5-7e1756a2591f",
   "metadata": {},
   "outputs": [],
   "source": [
    "df_Fam = pd.read_csv('/home/famgarcia/Descargas/PTHR17.0_rape', sep=\"\\t\", header=None)\n",
    "\n",
    "df_Fam.rename(columns=dict(zip(df_Fam.columns,['gene_id','Uniprot_ID','gene_symbol','PANTHER_SF_ID','PANTHER_Family_name','PANTHER_SF_name','GO_MF','GO_BP','GO_CC','Protein_class','Pathway'])), inplace=True)\n",
    "df_Fam = df_Fam[['Uniprot_ID','gene_symbol','PANTHER_SF_ID','PANTHER_Family_name','PANTHER_SF_name']]"
   ]
  },
  {
   "cell_type": "code",
   "execution_count": 338,
   "id": "e926880d-646e-4bc0-b81f-72a5923f4b0e",
   "metadata": {},
   "outputs": [
    {
     "data": {
      "text/html": [
       "<div>\n",
       "<style scoped>\n",
       "    .dataframe tbody tr th:only-of-type {\n",
       "        vertical-align: middle;\n",
       "    }\n",
       "\n",
       "    .dataframe tbody tr th {\n",
       "        vertical-align: top;\n",
       "    }\n",
       "\n",
       "    .dataframe thead th {\n",
       "        text-align: right;\n",
       "    }\n",
       "</style>\n",
       "<table border=\"1\" class=\"dataframe\">\n",
       "  <thead>\n",
       "    <tr style=\"text-align: right;\">\n",
       "      <th></th>\n",
       "      <th>Uniprot_ID</th>\n",
       "      <th>gene_symbol</th>\n",
       "      <th>PANTHER_SF_ID</th>\n",
       "      <th>PANTHER_Family_name</th>\n",
       "      <th>PANTHER_SF_name</th>\n",
       "    </tr>\n",
       "  </thead>\n",
       "  <tbody>\n",
       "    <tr>\n",
       "      <th>0</th>\n",
       "      <td>A0A078JWU9</td>\n",
       "      <td>BnaAnng36540D</td>\n",
       "      <td>PTHR31929:SF143</td>\n",
       "      <td>SAUR-LIKE AUXIN-RESPONSIVE PROTEIN FAMILY-RELATED</td>\n",
       "      <td>BNAANNG36540D PROTEIN</td>\n",
       "    </tr>\n",
       "    <tr>\n",
       "      <th>1</th>\n",
       "      <td>A0A078IGF9</td>\n",
       "      <td>BnaC05g48700D</td>\n",
       "      <td>PTHR45621:SF151</td>\n",
       "      <td>OS01G0588500 PROTEIN-RELATED</td>\n",
       "      <td>PROTEIN KINASE DOMAIN-CONTAINING PROTEIN</td>\n",
       "    </tr>\n",
       "    <tr>\n",
       "      <th>2</th>\n",
       "      <td>A0A078FKQ7</td>\n",
       "      <td>BnaCnng04230D</td>\n",
       "      <td>PTHR21649:SF120</td>\n",
       "      <td>CHLOROPHYLL A/B BINDING PROTEIN</td>\n",
       "      <td>CHLOROPHYLL A-B BINDING PROTEIN, CHLOROPLASTIC</td>\n",
       "    </tr>\n",
       "    <tr>\n",
       "      <th>3</th>\n",
       "      <td>A0A078H4L9</td>\n",
       "      <td>BnaA06g35530D</td>\n",
       "      <td>PTHR15680:SF16</td>\n",
       "      <td>RIBOSOMAL PROTEIN L19</td>\n",
       "      <td>BNAA06G35530D PROTEIN</td>\n",
       "    </tr>\n",
       "    <tr>\n",
       "      <th>4</th>\n",
       "      <td>A0A078JN16</td>\n",
       "      <td>BnaUnng02600D</td>\n",
       "      <td>PTHR11945:SF688</td>\n",
       "      <td>MADS BOX PROTEIN</td>\n",
       "      <td>MADS-BOX DOMAIN-CONTAINING PROTEIN</td>\n",
       "    </tr>\n",
       "  </tbody>\n",
       "</table>\n",
       "</div>"
      ],
      "text/plain": [
       "   Uniprot_ID    gene_symbol    PANTHER_SF_ID  \\\n",
       "0  A0A078JWU9  BnaAnng36540D  PTHR31929:SF143   \n",
       "1  A0A078IGF9  BnaC05g48700D  PTHR45621:SF151   \n",
       "2  A0A078FKQ7  BnaCnng04230D  PTHR21649:SF120   \n",
       "3  A0A078H4L9  BnaA06g35530D   PTHR15680:SF16   \n",
       "4  A0A078JN16  BnaUnng02600D  PTHR11945:SF688   \n",
       "\n",
       "                                 PANTHER_Family_name  \\\n",
       "0  SAUR-LIKE AUXIN-RESPONSIVE PROTEIN FAMILY-RELATED   \n",
       "1                       OS01G0588500 PROTEIN-RELATED   \n",
       "2                    CHLOROPHYLL A/B BINDING PROTEIN   \n",
       "3                              RIBOSOMAL PROTEIN L19   \n",
       "4                                   MADS BOX PROTEIN   \n",
       "\n",
       "                                  PANTHER_SF_name  \n",
       "0                           BNAANNG36540D PROTEIN  \n",
       "1        PROTEIN KINASE DOMAIN-CONTAINING PROTEIN  \n",
       "2  CHLOROPHYLL A-B BINDING PROTEIN, CHLOROPLASTIC  \n",
       "3                           BNAA06G35530D PROTEIN  \n",
       "4              MADS-BOX DOMAIN-CONTAINING PROTEIN  "
      ]
     },
     "execution_count": 338,
     "metadata": {},
     "output_type": "execute_result"
    }
   ],
   "source": [
    "df_Fam.head()"
   ]
  },
  {
   "cell_type": "code",
   "execution_count": 346,
   "id": "c53cc770-b1d0-4d05-984c-d5a9660e8b59",
   "metadata": {},
   "outputs": [],
   "source": [
    "final_df.head()\n",
    "\n",
    "final_df.columns = final_df.columns.map(''.join)"
   ]
  },
  {
   "attachments": {},
   "cell_type": "markdown",
   "id": "d9c110ba-d889-428c-9f86-3fbeeec5f8b9",
   "metadata": {},
   "source": [
    "merge both results"
   ]
  },
  {
   "cell_type": "code",
   "execution_count": 347,
   "id": "f81be870-097a-431d-9ea0-f6af0e061f3c",
   "metadata": {},
   "outputs": [],
   "source": [
    "df_annotated = pd.merge(final_df, df_Fam, on=\"gene_symbol\",how=\"outer\")"
   ]
  },
  {
   "cell_type": "code",
   "execution_count": 353,
   "id": "05ace0ef-c276-48e1-82a7-30887937b401",
   "metadata": {},
   "outputs": [],
   "source": [
    "df_annotated = df_annotated.drop_duplicates()"
   ]
  },
  {
   "cell_type": "code",
   "execution_count": 379,
   "id": "156b185d-4c7a-43dc-8d81-1c78ad92bb1c",
   "metadata": {},
   "outputs": [],
   "source": [
    "df_annotated = df_annotated.replace(nanval,None)\n",
    "df_annotated.to_csv(directory+\"\\PANTHER_proteins.tsv\", sep=\"\\t\", index=False)"
   ]
  }
 ],
 "metadata": {
  "kernelspec": {
   "display_name": "Python 3 (ipykernel)",
   "language": "python",
   "name": "python3"
  },
  "language_info": {
   "codemirror_mode": {
    "name": "ipython",
    "version": 3
   },
   "file_extension": ".py",
   "mimetype": "text/x-python",
   "name": "python",
   "nbconvert_exporter": "python",
   "pygments_lexer": "ipython3",
   "version": "3.9.12"
  }
 },
 "nbformat": 4,
 "nbformat_minor": 5
}
